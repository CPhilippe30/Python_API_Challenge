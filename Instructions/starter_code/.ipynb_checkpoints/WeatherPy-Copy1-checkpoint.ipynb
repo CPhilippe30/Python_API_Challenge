{
 "cells": [
  {
   "cell_type": "markdown",
   "metadata": {},
   "source": [
    "# WeatherPy\n",
    "----\n",
    "\n",
    "#### Note\n",
    "* Instructions have been included for each segment. You do not have to follow them exactly, but they are included to help you think through the steps."
   ]
  },
  {
   "cell_type": "code",
   "execution_count": 8,
   "metadata": {
    "scrolled": true
   },
   "outputs": [],
   "source": [
    "# Dependencies and Setup\n",
    "import matplotlib.pyplot as plt\n",
    "import pandas as pd\n",
    "import numpy as np\n",
    "import requests\n",
    "import time\n",
    "from scipy.stats import linregress\n",
    "\n",
    "# Import API key\n",
    "from api_keys import weather_api_key\n",
    "\n",
    "# Incorporated citipy to determine city based on latitude and longitude\n",
    "from citipy import citipy\n",
    "\n",
    "# Output File (CSV)\n",
    "output_data_file = \"output_data/cities.csv\"\n",
    "\n",
    "# Range of latitudes and longitudes\n",
    "lat_range = (-90, 90)\n",
    "lng_range = (-180, 180)"
   ]
  },
  {
   "cell_type": "markdown",
   "metadata": {},
   "source": [
    "## Generate Cities List"
   ]
  },
  {
   "cell_type": "code",
   "execution_count": 9,
   "metadata": {},
   "outputs": [
    {
     "data": {
      "text/plain": [
       "608"
      ]
     },
     "execution_count": 9,
     "metadata": {},
     "output_type": "execute_result"
    }
   ],
   "source": [
    "# List for holding lat_lngs and cities\n",
    "lat_lngs = []\n",
    "cities = []\n",
    "\n",
    "# Create a set of random lat and lng combinations\n",
    "lats = np.random.uniform(lat_range[0], lat_range[1], size=1500)\n",
    "lngs = np.random.uniform(lng_range[0], lng_range[1], size=1500)\n",
    "lat_lngs = zip(lats, lngs)\n",
    "\n",
    "# Identify nearest city for each lat, lng combination\n",
    "for lat_lng in lat_lngs:\n",
    "    city = citipy.nearest_city(lat_lng[0], lat_lng[1]).city_name\n",
    "    \n",
    "    # If the city is unique, then add it to a our cities list\n",
    "    if city not in cities:\n",
    "        cities.append(city)\n",
    "\n",
    "# Print the city count to confirm sufficient count\n",
    "len(cities)"
   ]
  },
  {
   "cell_type": "markdown",
   "metadata": {},
   "source": [
    "### Perform API Calls\n",
    "* Perform a weather check on each city using a series of successive API calls.\n",
    "* Include a print log of each city as it'sbeing processed (with the city number and city name).\n"
   ]
  },
  {
   "cell_type": "code",
   "execution_count": 10,
   "metadata": {
    "scrolled": true
   },
   "outputs": [
    {
     "data": {
      "text/plain": [
       "{'coord': {'lon': -68.3, 'lat': -54.8},\n",
       " 'weather': [{'id': 801,\n",
       "   'main': 'Clouds',\n",
       "   'description': 'few clouds',\n",
       "   'icon': '02n'}],\n",
       " 'base': 'stations',\n",
       " 'main': {'temp': 280.15,\n",
       "  'feels_like': 277.69,\n",
       "  'temp_min': 280.15,\n",
       "  'temp_max': 280.15,\n",
       "  'pressure': 1011,\n",
       "  'humidity': 57},\n",
       " 'visibility': 10000,\n",
       " 'wind': {'speed': 3.6, 'deg': 270},\n",
       " 'clouds': {'all': 20},\n",
       " 'dt': 1618959510,\n",
       " 'sys': {'type': 1,\n",
       "  'id': 8303,\n",
       "  'country': 'AR',\n",
       "  'sunrise': 1618918423,\n",
       "  'sunset': 1618954198},\n",
       " 'timezone': -10800,\n",
       " 'id': 3833367,\n",
       " 'name': 'Ushuaia',\n",
       " 'cod': 200}"
      ]
     },
     "execution_count": 10,
     "metadata": {},
     "output_type": "execute_result"
    }
   ],
   "source": [
    "# Weather Data\n",
    "url = \"http://api.openweathermap.org/data/2.5/weather?\"\n",
    "units = [\"imperial\"]\n",
    "\n",
    "# Build partial query URL\n",
    "query_url = f\"{url}appid={weather_api_key}&units={units}&q=\"\n",
    "\n",
    "weather_response = requests.get(query_url + city)\n",
    "weather_json = weather_response.json()\n",
    "weather_json "
   ]
  },
  {
   "cell_type": "code",
   "execution_count": 11,
   "metadata": {},
   "outputs": [
    {
     "name": "stdout",
     "output_type": "stream",
     "text": [
      "<Response [200]>\n"
     ]
    }
   ],
   "source": [
    "print(requests.get(query_url + city))\n"
   ]
  },
  {
   "cell_type": "code",
   "execution_count": 12,
   "metadata": {},
   "outputs": [
    {
     "name": "stdout",
     "output_type": "stream",
     "text": [
      "Beginning Data Retrival\n",
      "------------------------------\n",
      "Processing Record 1 of Set 1 | bluff\n",
      "Processing Record 2 of Set 1 | busselton\n",
      "City not found. Skipping...\n",
      "Processing Record 3 of Set 1 | novoorsk\n",
      "Processing Record 4 of Set 1 | bengkulu\n",
      "Processing Record 5 of Set 1 | hermanus\n",
      "City not found. Skipping...\n",
      "Processing Record 6 of Set 1 | salamanca\n",
      "Processing Record 7 of Set 1 | bam\n",
      "Processing Record 8 of Set 1 | ribeira grande\n",
      "Processing Record 9 of Set 1 | kavieng\n",
      "Processing Record 10 of Set 1 | gander\n",
      "Processing Record 11 of Set 1 | yellowknife\n",
      "Processing Record 12 of Set 1 | anzio\n",
      "Processing Record 13 of Set 1 | luwuk\n",
      "Processing Record 14 of Set 1 | rikitea\n",
      "Processing Record 15 of Set 1 | port elizabeth\n",
      "Processing Record 16 of Set 1 | huarmey\n",
      "Processing Record 17 of Set 1 | jamestown\n",
      "City not found. Skipping...\n",
      "Processing Record 18 of Set 1 | saldanha\n",
      "Processing Record 19 of Set 1 | atar\n",
      "Processing Record 20 of Set 1 | yerkoy\n",
      "Processing Record 21 of Set 1 | punta arenas\n",
      "Processing Record 22 of Set 1 | mar del plata\n",
      "Processing Record 23 of Set 1 | atuona\n",
      "Processing Record 24 of Set 1 | dingle\n",
      "Processing Record 25 of Set 1 | hami\n",
      "Processing Record 26 of Set 1 | thompson\n",
      "Processing Record 27 of Set 1 | kudahuvadhoo\n",
      "City not found. Skipping...\n",
      "Processing Record 28 of Set 1 | hasaki\n",
      "Processing Record 29 of Set 1 | nanortalik\n",
      "Processing Record 30 of Set 1 | puerto ayora\n",
      "Processing Record 31 of Set 1 | camacha\n",
      "Processing Record 32 of Set 1 | butaritari\n",
      "Processing Record 33 of Set 1 | hilo\n",
      "Processing Record 34 of Set 1 | tuktoyaktuk\n",
      "Processing Record 35 of Set 1 | ola\n",
      "Processing Record 36 of Set 1 | broken hill\n",
      "City not found. Skipping...\n",
      "Processing Record 37 of Set 1 | hithadhoo\n",
      "Processing Record 38 of Set 1 | biak\n",
      "Processing Record 39 of Set 1 | cape town\n",
      "Processing Record 40 of Set 1 | lata\n",
      "Processing Record 41 of Set 1 | kaitangata\n",
      "Processing Record 42 of Set 1 | porangatu\n",
      "Processing Record 43 of Set 1 | benguela\n",
      "Processing Record 44 of Set 1 | kapaa\n",
      "Processing Record 45 of Set 1 | cidreira\n",
      "Processing Record 46 of Set 1 | teya\n",
      "Processing Record 47 of Set 1 | nikolskoye\n",
      "Processing Record 48 of Set 1 | hobart\n",
      "Processing Record 49 of Set 1 | khanu woralaksaburi\n",
      "Processing Record 50 of Set 1 | lebu\n",
      "Processing Record 0 of Set 2 | avarua\n",
      "Processing Record 1 of Set 2 | riberalta\n",
      "Processing Record 2 of Set 2 | pierre\n",
      "Processing Record 3 of Set 2 | dunedin\n",
      "Processing Record 4 of Set 2 | douentza\n",
      "Processing Record 5 of Set 2 | honningsvag\n",
      "Processing Record 6 of Set 2 | ilulissat\n",
      "Processing Record 7 of Set 2 | mragowo\n",
      "Processing Record 8 of Set 2 | coquimbo\n",
      "Processing Record 9 of Set 2 | saint george\n",
      "Processing Record 10 of Set 2 | barrow\n",
      "Processing Record 11 of Set 2 | nhulunbuy\n",
      "Processing Record 12 of Set 2 | collie\n",
      "Processing Record 13 of Set 2 | pochutla\n",
      "Processing Record 14 of Set 2 | upernavik\n",
      "Processing Record 15 of Set 2 | billings\n",
      "Processing Record 16 of Set 2 | kirakira\n",
      "Processing Record 17 of Set 2 | saint-philippe\n",
      "Processing Record 18 of Set 2 | alofi\n",
      "Processing Record 19 of Set 2 | mataura\n",
      "Processing Record 20 of Set 2 | albany\n",
      "Processing Record 21 of Set 2 | la asuncion\n",
      "Processing Record 22 of Set 2 | kahului\n",
      "Processing Record 23 of Set 2 | candido mendes\n",
      "Processing Record 24 of Set 2 | luanda\n",
      "Processing Record 25 of Set 2 | narsaq\n",
      "Processing Record 26 of Set 2 | birjand\n",
      "Processing Record 27 of Set 2 | ushuaia\n",
      "Processing Record 28 of Set 2 | vila velha\n",
      "Processing Record 29 of Set 2 | artigas\n",
      "Processing Record 30 of Set 2 | san patricio\n",
      "Processing Record 31 of Set 2 | lavrentiya\n",
      "Processing Record 32 of Set 2 | faya\n",
      "Processing Record 33 of Set 2 | biharamulo\n",
      "Processing Record 34 of Set 2 | raudeberg\n",
      "Processing Record 35 of Set 2 | dudinka\n",
      "Processing Record 36 of Set 2 | vaini\n",
      "Processing Record 37 of Set 2 | kentau\n",
      "Processing Record 38 of Set 2 | turukhansk\n",
      "City not found. Skipping...\n",
      "Processing Record 39 of Set 2 | broome\n",
      "Processing Record 40 of Set 2 | saskylakh\n",
      "Processing Record 41 of Set 2 | liku\n",
      "Processing Record 42 of Set 2 | jiuquan\n",
      "Processing Record 43 of Set 2 | new norfolk\n",
      "Processing Record 44 of Set 2 | mahebourg\n",
      "Processing Record 45 of Set 2 | college\n",
      "City not found. Skipping...\n",
      "Processing Record 46 of Set 2 | dikson\n",
      "Processing Record 47 of Set 2 | guerrero negro\n",
      "Processing Record 48 of Set 2 | torremolinos\n",
      "Processing Record 49 of Set 2 | erzin\n",
      "Processing Record 50 of Set 2 | karratha\n",
      "Processing Record 0 of Set 3 | fort nelson\n",
      "Processing Record 1 of Set 3 | tiksi\n",
      "Processing Record 2 of Set 3 | rovaniemi\n",
      "Processing Record 3 of Set 3 | port macquarie\n",
      "Processing Record 4 of Set 3 | javornik\n",
      "Processing Record 5 of Set 3 | georgetown\n",
      "Processing Record 6 of Set 3 | praia da vitoria\n",
      "Processing Record 7 of Set 3 | nampula\n",
      "Processing Record 8 of Set 3 | dabakala\n",
      "Processing Record 9 of Set 3 | bredasdorp\n",
      "Processing Record 10 of Set 3 | qaanaaq\n",
      "City not found. Skipping...\n",
      "Processing Record 11 of Set 3 | rawson\n",
      "Processing Record 12 of Set 3 | pechory\n",
      "Processing Record 13 of Set 3 | bafia\n",
      "Processing Record 14 of Set 3 | asau\n",
      "Processing Record 15 of Set 3 | isangel\n",
      "Processing Record 16 of Set 3 | airai\n",
      "Processing Record 17 of Set 3 | mosquera\n",
      "Processing Record 18 of Set 3 | avon\n",
      "Processing Record 19 of Set 3 | sola\n",
      "Processing Record 20 of Set 3 | saint anthony\n",
      "Processing Record 21 of Set 3 | lazaro cardenas\n",
      "Processing Record 22 of Set 3 | codrington\n",
      "Processing Record 23 of Set 3 | dalbandin\n",
      "Processing Record 24 of Set 3 | port blair\n",
      "Processing Record 25 of Set 3 | bonfim\n",
      "Processing Record 26 of Set 3 | luganville\n",
      "Processing Record 27 of Set 3 | gat\n",
      "Processing Record 28 of Set 3 | taoudenni\n",
      "Processing Record 29 of Set 3 | shemonaikha\n",
      "Processing Record 30 of Set 3 | norman wells\n",
      "Processing Record 31 of Set 3 | east london\n",
      "Processing Record 32 of Set 3 | teplyk\n",
      "Processing Record 33 of Set 3 | iquique\n",
      "City not found. Skipping...\n",
      "Processing Record 34 of Set 3 | angoche\n",
      "Processing Record 35 of Set 3 | te anau\n",
      "City not found. Skipping...\n",
      "Processing Record 36 of Set 3 | sao francisco do sul\n",
      "Processing Record 37 of Set 3 | port alfred\n",
      "Processing Record 38 of Set 3 | ungheni\n",
      "Processing Record 39 of Set 3 | srednekolymsk\n",
      "Processing Record 40 of Set 3 | japura\n",
      "Processing Record 41 of Set 3 | castro\n",
      "Processing Record 42 of Set 3 | chaihe\n",
      "Processing Record 43 of Set 3 | arraial do cabo\n",
      "Processing Record 44 of Set 3 | skjervoy\n",
      "City not found. Skipping...\n",
      "Processing Record 45 of Set 3 | ismailia\n",
      "Processing Record 46 of Set 3 | pacific grove\n",
      "Processing Record 47 of Set 3 | hofn\n",
      "Processing Record 48 of Set 3 | adrar\n",
      "Processing Record 49 of Set 3 | chisinau\n",
      "Processing Record 50 of Set 3 | svetlogorsk\n",
      "Processing Record 0 of Set 4 | cayenne\n",
      "Processing Record 1 of Set 4 | severo-kurilsk\n",
      "Processing Record 2 of Set 4 | katsuura\n",
      "Processing Record 3 of Set 4 | ishigaki\n",
      "Processing Record 4 of Set 4 | petropavlovka\n",
      "Processing Record 5 of Set 4 | leningradskiy\n",
      "Processing Record 6 of Set 4 | apodi\n",
      "Processing Record 7 of Set 4 | cabo san lucas\n",
      "Processing Record 8 of Set 4 | waingapu\n",
      "Processing Record 9 of Set 4 | kpandae\n",
      "Processing Record 10 of Set 4 | longyearbyen\n",
      "Processing Record 11 of Set 4 | kiama\n",
      "Processing Record 12 of Set 4 | tunceli\n",
      "Processing Record 13 of Set 4 | qostanay\n",
      "Processing Record 14 of Set 4 | rock springs\n",
      "Processing Record 15 of Set 4 | bahia honda\n",
      "Processing Record 16 of Set 4 | aksay\n",
      "Processing Record 17 of Set 4 | terme\n",
      "Processing Record 18 of Set 4 | geraldton\n",
      "Processing Record 19 of Set 4 | tuatapere\n",
      "Processing Record 20 of Set 4 | altamira\n",
      "Processing Record 21 of Set 4 | cabra\n",
      "Processing Record 22 of Set 4 | bud\n",
      "Processing Record 23 of Set 4 | bandarbeyla\n",
      "Processing Record 24 of Set 4 | luderitz\n",
      "Processing Record 25 of Set 4 | talisayan\n",
      "Processing Record 26 of Set 4 | buala\n",
      "Processing Record 27 of Set 4 | palauig\n",
      "Processing Record 28 of Set 4 | bethel\n",
      "Processing Record 29 of Set 4 | jiaonan\n",
      "Processing Record 30 of Set 4 | kruisfontein\n",
      "Processing Record 31 of Set 4 | chuy\n",
      "City not found. Skipping...\n",
      "Processing Record 32 of Set 4 | poum\n",
      "Processing Record 33 of Set 4 | touros\n",
      "Processing Record 34 of Set 4 | zaysan\n",
      "Processing Record 35 of Set 4 | ostersund\n",
      "Processing Record 36 of Set 4 | doha\n",
      "Processing Record 37 of Set 4 | fereydun kenar\n",
      "Processing Record 38 of Set 4 | gigmoto\n",
      "Processing Record 39 of Set 4 | souillac\n",
      "Processing Record 40 of Set 4 | mayo\n"
     ]
    },
    {
     "name": "stdout",
     "output_type": "stream",
     "text": [
      "Processing Record 41 of Set 4 | ponta delgada\n",
      "Processing Record 42 of Set 4 | darhan\n",
      "Processing Record 43 of Set 4 | inirida\n",
      "City not found. Skipping...\n",
      "Processing Record 44 of Set 4 | hirara\n",
      "Processing Record 45 of Set 4 | okha\n",
      "Processing Record 46 of Set 4 | sorong\n",
      "Processing Record 47 of Set 4 | pizarro\n",
      "Processing Record 48 of Set 4 | talnakh\n",
      "Processing Record 49 of Set 4 | nambucca heads\n",
      "Processing Record 50 of Set 4 | yabrud\n",
      "Processing Record 0 of Set 5 | karlstadt\n",
      "Processing Record 1 of Set 5 | kartaly\n",
      "Processing Record 2 of Set 5 | kolobrzeg\n",
      "Processing Record 3 of Set 5 | volokonovka\n",
      "Processing Record 4 of Set 5 | chokurdakh\n",
      "Processing Record 5 of Set 5 | canapi\n",
      "Processing Record 6 of Set 5 | lima\n",
      "Processing Record 7 of Set 5 | iberia\n",
      "City not found. Skipping...\n",
      "Processing Record 8 of Set 5 | oksfjord\n",
      "Processing Record 9 of Set 5 | tocopilla\n",
      "City not found. Skipping...\n",
      "City not found. Skipping...\n",
      "Processing Record 10 of Set 5 | portobelo\n",
      "Processing Record 11 of Set 5 | esperance\n",
      "Processing Record 12 of Set 5 | lasa\n",
      "Processing Record 13 of Set 5 | bathsheba\n",
      "Processing Record 14 of Set 5 | sangar\n",
      "Processing Record 15 of Set 5 | bambanglipuro\n",
      "Processing Record 16 of Set 5 | orbetello\n",
      "Processing Record 17 of Set 5 | chushan\n",
      "Processing Record 18 of Set 5 | pisco\n",
      "Processing Record 19 of Set 5 | provideniya\n",
      "Processing Record 20 of Set 5 | ponta do sol\n",
      "Processing Record 21 of Set 5 | nishihara\n",
      "City not found. Skipping...\n",
      "Processing Record 22 of Set 5 | port lincoln\n",
      "Processing Record 23 of Set 5 | anadyr\n",
      "Processing Record 24 of Set 5 | korla\n",
      "Processing Record 25 of Set 5 | prainha\n",
      "City not found. Skipping...\n",
      "Processing Record 26 of Set 5 | carnarvon\n",
      "Processing Record 27 of Set 5 | lethem\n",
      "Processing Record 28 of Set 5 | vestmannaeyjar\n",
      "Processing Record 29 of Set 5 | beidao\n",
      "Processing Record 30 of Set 5 | maragogi\n",
      "Processing Record 31 of Set 5 | sao filipe\n",
      "Processing Record 32 of Set 5 | qurayyat\n",
      "Processing Record 33 of Set 5 | mirador\n",
      "Processing Record 34 of Set 5 | koutiala\n",
      "Processing Record 35 of Set 5 | gobabis\n",
      "Processing Record 36 of Set 5 | lompoc\n",
      "Processing Record 37 of Set 5 | tommot\n",
      "Processing Record 38 of Set 5 | nueva granada\n",
      "Processing Record 39 of Set 5 | las vegas\n",
      "Processing Record 40 of Set 5 | ketchikan\n",
      "Processing Record 41 of Set 5 | portland\n",
      "Processing Record 42 of Set 5 | klaksvik\n",
      "Processing Record 43 of Set 5 | ngong\n",
      "Processing Record 44 of Set 5 | areosa\n",
      "Processing Record 45 of Set 5 | saint-joseph\n",
      "Processing Record 46 of Set 5 | ostrovnoy\n",
      "Processing Record 47 of Set 5 | sur\n",
      "Processing Record 48 of Set 5 | hyderabad\n",
      "Processing Record 49 of Set 5 | constitucion\n",
      "Processing Record 50 of Set 5 | kodiak\n",
      "Processing Record 0 of Set 6 | iwanai\n",
      "Processing Record 1 of Set 6 | tatawin\n",
      "City not found. Skipping...\n",
      "Processing Record 2 of Set 6 | novopavlovka\n",
      "Processing Record 3 of Set 6 | wynyard\n",
      "Processing Record 4 of Set 6 | quatre cocos\n",
      "Processing Record 5 of Set 6 | sarangani\n",
      "Processing Record 6 of Set 6 | mackenzie\n",
      "Processing Record 7 of Set 6 | vaitape\n",
      "Processing Record 8 of Set 6 | byron bay\n",
      "Processing Record 9 of Set 6 | maceio\n",
      "Processing Record 10 of Set 6 | yozgat\n",
      "Processing Record 11 of Set 6 | camalu\n",
      "Processing Record 12 of Set 6 | sobolevo\n",
      "Processing Record 13 of Set 6 | kefalos\n",
      "Processing Record 14 of Set 6 | edson\n",
      "Processing Record 15 of Set 6 | mount gambier\n",
      "Processing Record 16 of Set 6 | irpa irpa\n",
      "Processing Record 17 of Set 6 | iracoubo\n",
      "Processing Record 18 of Set 6 | alice springs\n",
      "Processing Record 19 of Set 6 | galiakot\n",
      "Processing Record 20 of Set 6 | sibolga\n",
      "Processing Record 21 of Set 6 | soledad\n",
      "Processing Record 22 of Set 6 | chute-aux-outardes\n",
      "Processing Record 23 of Set 6 | lillehammer\n",
      "Processing Record 24 of Set 6 | tinqueux\n",
      "Processing Record 25 of Set 6 | tasiilaq\n",
      "Processing Record 26 of Set 6 | victoria\n",
      "Processing Record 27 of Set 6 | lorengau\n",
      "Processing Record 28 of Set 6 | statesboro\n",
      "Processing Record 29 of Set 6 | yarada\n",
      "Processing Record 30 of Set 6 | naze\n",
      "Processing Record 31 of Set 6 | aanekoski\n",
      "Processing Record 32 of Set 6 | elat\n",
      "Processing Record 33 of Set 6 | butte\n",
      "Processing Record 34 of Set 6 | padang\n",
      "Processing Record 35 of Set 6 | lodja\n",
      "City not found. Skipping...\n",
      "Processing Record 36 of Set 6 | banjar\n",
      "Processing Record 37 of Set 6 | sept-iles\n",
      "Processing Record 38 of Set 6 | millau\n",
      "Processing Record 39 of Set 6 | ahuimanu\n",
      "City not found. Skipping...\n",
      "Processing Record 40 of Set 6 | inhambane\n",
      "Processing Record 41 of Set 6 | balikpapan\n",
      "Processing Record 42 of Set 6 | husavik\n",
      "Processing Record 43 of Set 6 | champerico\n",
      "Processing Record 44 of Set 6 | biltine\n",
      "Processing Record 45 of Set 6 | khandyga\n",
      "City not found. Skipping...\n",
      "Processing Record 46 of Set 6 | kysyl-syr\n",
      "Processing Record 47 of Set 6 | eirunepe\n",
      "Processing Record 48 of Set 6 | beloha\n",
      "Processing Record 49 of Set 6 | colceag\n",
      "Processing Record 50 of Set 6 | aykhal\n",
      "Processing Record 0 of Set 7 | khuzdar\n",
      "Processing Record 1 of Set 7 | nisia floresta\n",
      "Processing Record 2 of Set 7 | kosamba\n",
      "Processing Record 3 of Set 7 | usinsk\n",
      "Processing Record 4 of Set 7 | nouakchott\n",
      "Processing Record 5 of Set 7 | xunchang\n",
      "Processing Record 6 of Set 7 | bilma\n",
      "Processing Record 7 of Set 7 | nola\n",
      "City not found. Skipping...\n",
      "Processing Record 8 of Set 7 | maple creek\n",
      "Processing Record 9 of Set 7 | great yarmouth\n",
      "Processing Record 10 of Set 7 | tekeli\n",
      "Processing Record 11 of Set 7 | acari\n",
      "Processing Record 12 of Set 7 | iqaluit\n",
      "Processing Record 13 of Set 7 | noyabrsk\n",
      "City not found. Skipping...\n",
      "Processing Record 14 of Set 7 | paamiut\n",
      "Processing Record 15 of Set 7 | vao\n",
      "Processing Record 16 of Set 7 | valparaiso\n",
      "Processing Record 17 of Set 7 | vostok\n",
      "Processing Record 18 of Set 7 | vredendal\n",
      "Processing Record 19 of Set 7 | khatanga\n",
      "Processing Record 20 of Set 7 | mangai\n",
      "Processing Record 21 of Set 7 | tandil\n",
      "Processing Record 22 of Set 7 | nantucket\n",
      "Processing Record 23 of Set 7 | namatanai\n",
      "City not found. Skipping...\n",
      "City not found. Skipping...\n",
      "Processing Record 24 of Set 7 | boulder\n",
      "Processing Record 25 of Set 7 | arlit\n",
      "Processing Record 26 of Set 7 | hualmay\n",
      "Processing Record 27 of Set 7 | beringovskiy\n",
      "Processing Record 28 of Set 7 | clyde river\n",
      "Processing Record 29 of Set 7 | pevek\n",
      "Processing Record 30 of Set 7 | kiranur\n",
      "Processing Record 31 of Set 7 | alyangula\n",
      "Processing Record 32 of Set 7 | santa ana\n",
      "Processing Record 33 of Set 7 | manokwari\n",
      "Processing Record 34 of Set 7 | sao jose do rio pardo\n",
      "Processing Record 35 of Set 7 | basco\n",
      "Processing Record 36 of Set 7 | iskandar\n",
      "City not found. Skipping...\n",
      "Processing Record 37 of Set 7 | la plata\n",
      "Processing Record 38 of Set 7 | plettenberg bay\n",
      "Processing Record 39 of Set 7 | zabaykalsk\n",
      "Processing Record 40 of Set 7 | marsh harbour\n",
      "Processing Record 41 of Set 7 | talaya\n",
      "Processing Record 42 of Set 7 | ust-omchug\n",
      "Processing Record 43 of Set 7 | vicente guerrero\n",
      "Processing Record 44 of Set 7 | bubaque\n",
      "Processing Record 45 of Set 7 | banda aceh\n",
      "Processing Record 46 of Set 7 | bodden town\n",
      "Processing Record 47 of Set 7 | naujamiestis\n",
      "Processing Record 48 of Set 7 | belyy yar\n",
      "Processing Record 49 of Set 7 | muli\n",
      "Processing Record 50 of Set 7 | gamba\n",
      "Processing Record 0 of Set 8 | pontianak\n",
      "Processing Record 1 of Set 8 | mercedes\n",
      "Processing Record 2 of Set 8 | demba\n",
      "Processing Record 3 of Set 8 | flin flon\n",
      "Processing Record 4 of Set 8 | pangnirtung\n",
      "Processing Record 5 of Set 8 | garbolovo\n",
      "Processing Record 6 of Set 8 | port-gentil\n",
      "Processing Record 7 of Set 8 | dhidhdhoo\n",
      "Processing Record 8 of Set 8 | kimbe\n",
      "Processing Record 9 of Set 8 | vila do maio\n",
      "Processing Record 10 of Set 8 | manjacaze\n",
      "Processing Record 11 of Set 8 | diffa\n",
      "Processing Record 12 of Set 8 | pangkalanbuun\n",
      "Processing Record 13 of Set 8 | jian\n",
      "Processing Record 14 of Set 8 | kungurtug\n",
      "Processing Record 15 of Set 8 | kulhudhuffushi\n",
      "Processing Record 16 of Set 8 | bogo\n",
      "City not found. Skipping...\n",
      "Processing Record 17 of Set 8 | kibre mengist\n",
      "Processing Record 18 of Set 8 | bilibino\n",
      "Processing Record 19 of Set 8 | alibag\n",
      "Processing Record 20 of Set 8 | jibuti\n",
      "Processing Record 21 of Set 8 | santa helena\n",
      "Processing Record 22 of Set 8 | coihaique\n",
      "Processing Record 23 of Set 8 | eyl\n",
      "Processing Record 24 of Set 8 | sistranda\n",
      "Processing Record 25 of Set 8 | henties bay\n"
     ]
    },
    {
     "name": "stdout",
     "output_type": "stream",
     "text": [
      "Processing Record 26 of Set 8 | payo\n",
      "Processing Record 27 of Set 8 | umm lajj\n",
      "City not found. Skipping...\n",
      "Processing Record 28 of Set 8 | sao joao da barra\n",
      "Processing Record 29 of Set 8 | walvis bay\n",
      "Processing Record 30 of Set 8 | loandjili\n",
      "Processing Record 31 of Set 8 | kasama\n",
      "Processing Record 32 of Set 8 | thika\n",
      "Processing Record 33 of Set 8 | grootfontein\n",
      "Processing Record 34 of Set 8 | pentecoste\n",
      "Processing Record 35 of Set 8 | cururupu\n",
      "Processing Record 36 of Set 8 | karapyshi\n",
      "Processing Record 37 of Set 8 | pontes e lacerda\n",
      "Processing Record 38 of Set 8 | samarai\n",
      "City not found. Skipping...\n",
      "Processing Record 39 of Set 8 | pinega\n",
      "City not found. Skipping...\n",
      "Processing Record 40 of Set 8 | yulara\n",
      "Processing Record 41 of Set 8 | chake chake\n",
      "Processing Record 42 of Set 8 | gunnedah\n",
      "Processing Record 43 of Set 8 | yangambi\n",
      "Processing Record 44 of Set 8 | udachnyy\n",
      "Processing Record 45 of Set 8 | albanel\n",
      "Processing Record 46 of Set 8 | atherton\n",
      "Processing Record 47 of Set 8 | belize\n",
      "Processing Record 48 of Set 8 | namibe\n",
      "Processing Record 49 of Set 8 | miranpur\n",
      "Processing Record 50 of Set 8 | katobu\n",
      "Processing Record 0 of Set 9 | ixtapa\n",
      "Processing Record 1 of Set 9 | nabinagar\n",
      "City not found. Skipping...\n",
      "Processing Record 2 of Set 9 | faanui\n",
      "Processing Record 3 of Set 9 | tahta\n",
      "Processing Record 4 of Set 9 | skibbereen\n",
      "Processing Record 5 of Set 9 | novoilinsk\n",
      "Processing Record 6 of Set 9 | axim\n",
      "Processing Record 7 of Set 9 | nome\n",
      "Processing Record 8 of Set 9 | gyongyostarjan\n",
      "Processing Record 9 of Set 9 | port augusta\n",
      "Processing Record 10 of Set 9 | vermilion\n",
      "Processing Record 11 of Set 9 | bardiyah\n",
      "Processing Record 12 of Set 9 | mehamn\n",
      "Processing Record 13 of Set 9 | esna\n",
      "Processing Record 14 of Set 9 | grand gaube\n",
      "Processing Record 15 of Set 9 | misratah\n",
      "Processing Record 16 of Set 9 | nicolas bravo\n",
      "Processing Record 17 of Set 9 | malatya\n",
      "City not found. Skipping...\n",
      "Processing Record 18 of Set 9 | santa fe\n",
      "Processing Record 19 of Set 9 | ust-koksa\n",
      "Processing Record 20 of Set 9 | kuldiga\n",
      "Processing Record 21 of Set 9 | medicine hat\n",
      "Processing Record 22 of Set 9 | barisal\n",
      "Processing Record 23 of Set 9 | torbay\n",
      "Processing Record 24 of Set 9 | acarau\n",
      "Processing Record 25 of Set 9 | nyurba\n",
      "Processing Record 26 of Set 9 | hambantota\n",
      "Processing Record 27 of Set 9 | moron\n",
      "Processing Record 28 of Set 9 | fasa\n",
      "City not found. Skipping...\n",
      "Processing Record 29 of Set 9 | liverpool\n",
      "Processing Record 30 of Set 9 | xiaolingwei\n",
      "Processing Record 31 of Set 9 | la ronge\n",
      "Processing Record 32 of Set 9 | igrim\n",
      "Processing Record 33 of Set 9 | calamar\n",
      "City not found. Skipping...\n",
      "Processing Record 34 of Set 9 | nemuro\n",
      "Processing Record 35 of Set 9 | jardim\n",
      "Processing Record 36 of Set 9 | ancud\n",
      "Processing Record 37 of Set 9 | bhanpuri\n",
      "Processing Record 38 of Set 9 | severodvinsk\n",
      "Processing Record 39 of Set 9 | bontang\n",
      "Processing Record 40 of Set 9 | jinji\n",
      "Processing Record 41 of Set 9 | russell\n",
      "Processing Record 42 of Set 9 | seoul\n",
      "Processing Record 43 of Set 9 | dubna\n",
      "Processing Record 44 of Set 9 | meadow lake\n",
      "Processing Record 45 of Set 9 | vila franca do campo\n",
      "Processing Record 46 of Set 9 | alekseyevsk\n",
      "Processing Record 47 of Set 9 | tessalit\n",
      "Processing Record 48 of Set 9 | chapais\n",
      "Processing Record 49 of Set 9 | havelock\n",
      "Processing Record 50 of Set 9 | srikakulam\n",
      "Processing Record 0 of Set 10 | kavaratti\n",
      "Processing Record 1 of Set 10 | razdolnoye\n",
      "Processing Record 2 of Set 10 | kokkola\n",
      "Processing Record 3 of Set 10 | rocha\n",
      "Processing Record 4 of Set 10 | corinto\n",
      "Processing Record 5 of Set 10 | puerto escondido\n",
      "Processing Record 6 of Set 10 | dubrovnik\n",
      "Processing Record 7 of Set 10 | grindavik\n",
      "Processing Record 8 of Set 10 | panaba\n",
      "Processing Record 9 of Set 10 | nadadores\n",
      "Processing Record 10 of Set 10 | lesnoy\n",
      "Processing Record 11 of Set 10 | strani\n",
      "Processing Record 12 of Set 10 | palembang\n",
      "Processing Record 13 of Set 10 | quepos\n",
      "Processing Record 14 of Set 10 | mazyr\n",
      "Processing Record 15 of Set 10 | jining\n",
      "Processing Record 16 of Set 10 | denpasar\n",
      "Processing Record 17 of Set 10 | roma\n",
      "Processing Record 18 of Set 10 | tarquinia\n",
      "Processing Record 19 of Set 10 | nong khai\n",
      "Processing Record 20 of Set 10 | mareeba\n",
      "Processing Record 21 of Set 10 | shingu\n",
      "City not found. Skipping...\n",
      "Processing Record 22 of Set 10 | strelka\n",
      "Processing Record 23 of Set 10 | seydi\n",
      "Processing Record 24 of Set 10 | prado\n",
      "Processing Record 25 of Set 10 | yenisehir\n",
      "Processing Record 26 of Set 10 | malkapur\n",
      "Processing Record 27 of Set 10 | moree\n",
      "Processing Record 28 of Set 10 | bowen\n",
      "Processing Record 29 of Set 10 | takoradi\n",
      "City not found. Skipping...\n",
      "Processing Record 30 of Set 10 | sharan\n",
      "Processing Record 31 of Set 10 | raton\n",
      "Processing Record 32 of Set 10 | aqtobe\n",
      "Processing Record 33 of Set 10 | vanimo\n",
      "Processing Record 34 of Set 10 | ler\n",
      "Processing Record 35 of Set 10 | natal\n",
      "Processing Record 36 of Set 10 | dzilam gonzalez\n",
      "Processing Record 37 of Set 10 | marzuq\n",
      "Processing Record 38 of Set 10 | lensk\n",
      "City not found. Skipping...\n",
      "Processing Record 39 of Set 10 | ambon\n",
      "Processing Record 40 of Set 10 | bauchi\n",
      "Processing Record 41 of Set 10 | atambua\n",
      "City not found. Skipping...\n",
      "Processing Record 42 of Set 10 | santo tomas\n",
      "Processing Record 43 of Set 10 | diu\n",
      "City not found. Skipping...\n",
      "Processing Record 44 of Set 10 | cherskiy\n",
      "Processing Record 45 of Set 10 | meulaboh\n",
      "City not found. Skipping...\n",
      "Processing Record 46 of Set 10 | kotma\n",
      "Processing Record 47 of Set 10 | adelaide\n",
      "Processing Record 48 of Set 10 | banyo\n",
      "Processing Record 49 of Set 10 | berlevag\n",
      "Processing Record 50 of Set 10 | sao felix do xingu\n",
      "City not found. Skipping...\n",
      "Processing Record 0 of Set 11 | chau doc\n",
      "Processing Record 1 of Set 11 | adiake\n",
      "Processing Record 2 of Set 11 | mandera\n",
      "Processing Record 3 of Set 11 | tura\n",
      "Processing Record 4 of Set 11 | goderich\n",
      "Processing Record 5 of Set 11 | haines junction\n",
      "Processing Record 6 of Set 11 | inta\n",
      "Processing Record 7 of Set 11 | egvekinot\n",
      "Processing Record 8 of Set 11 | batesville\n",
      "Processing Record 9 of Set 11 | sinnamary\n",
      "Processing Record 10 of Set 11 | caravelas\n",
      "Processing Record 11 of Set 11 | baculin\n",
      "Processing Record 12 of Set 11 | nouadhibou\n",
      "Processing Record 13 of Set 11 | canico\n",
      "Processing Record 14 of Set 11 | marquette\n",
      "Processing Record 15 of Set 11 | deputatskiy\n",
      "Processing Record 16 of Set 11 | kannur\n",
      "Processing Record 17 of Set 11 | volsk\n",
      "Processing Record 18 of Set 11 | tateyama\n",
      "Processing Record 19 of Set 11 | katihar\n",
      "Processing Record 20 of Set 11 | homer\n",
      "Processing Record 21 of Set 11 | hwange\n",
      "Processing Record 22 of Set 11 | laguna\n",
      "Processing Record 23 of Set 11 | numaligarh\n",
      "Processing Record 24 of Set 11 | salalah\n",
      "Processing Record 25 of Set 11 | aklavik\n",
      "Processing Record 26 of Set 11 | siocon\n",
      "Processing Record 27 of Set 11 | yeppoon\n",
      "Processing Record 28 of Set 11 | the valley\n",
      "City not found. Skipping...\n",
      "Processing Record 29 of Set 11 | tasgaon\n",
      "Processing Record 30 of Set 11 | verkhnevilyuysk\n",
      "Processing Record 31 of Set 11 | yanam\n",
      "Processing Record 32 of Set 11 | killybegs\n",
      "Processing Record 33 of Set 11 | uyemskiy\n",
      "Processing Record 34 of Set 11 | odweyne\n",
      "Processing Record 35 of Set 11 | itagiba\n",
      "Processing Record 36 of Set 11 | kautokeino\n",
      "Processing Record 37 of Set 11 | palmer\n",
      "Processing Record 38 of Set 11 | caconda\n",
      "Processing Record 39 of Set 11 | parfenyevo\n",
      "Processing Record 40 of Set 11 | talcahuano\n",
      "Processing Record 41 of Set 11 | edd\n",
      "Processing Record 42 of Set 11 | harper\n",
      "Processing Record 43 of Set 11 | ballina\n",
      "Processing Record 44 of Set 11 | vanderhoof\n",
      "Processing Record 45 of Set 11 | komsomolskiy\n",
      "Processing Record 46 of Set 11 | tema\n",
      "Processing Record 47 of Set 11 | fairlie\n",
      "Processing Record 48 of Set 11 | inzer\n",
      "Processing Record 49 of Set 11 | paragominas\n",
      "Processing Record 50 of Set 11 | challapalle\n",
      "Processing Record 0 of Set 12 | santa vitoria do palmar\n",
      "Processing Record 1 of Set 12 | manakara\n",
      "Processing Record 2 of Set 12 | balkanabat\n",
      "Processing Record 3 of Set 12 | belem de sao francisco\n",
      "Processing Record 4 of Set 12 | najran\n",
      "-------------------------\n",
      "Data Retrieval Complete\n",
      "-------------------------\n"
     ]
    }
   ],
   "source": [
    "# Get weather data\n",
    "print(\"Beginning Data Retrival\")\n",
    "print(\"------------------------------\")\n",
    "set_count = 1\n",
    "record_count = 1\n",
    "\n",
    "# Loop through the list of cities and perform a request for data on each\n",
    "weather_data = {\"City\":[],\"Cloudiness\":[],\"Country\":[],\"Date\":[],\"Humidity\":[],\"Lat\":[],\"Lng\":[],\"Max Temp\":[],\"Wind Speed\": []}\n",
    "for city in cities:\n",
    "    weather_response = requests.get(query_url + city)\n",
    "    weather_response_json = weather_response.json()\n",
    "    \n",
    "    if weather_response.status_code == 200:\n",
    "        weather_data[\"City\"].append(city)\n",
    "        weather_data[\"Cloudiness\"].append(weather_response_json['clouds']['all'])\n",
    "        weather_data[\"Country\"].append(weather_response_json['sys']['country'])\n",
    "        weather_data[\"Date\"].append(weather_response_json['dt'])\n",
    "        weather_data[\"Humidity\"].append(weather_response_json['main']['humidity'])\n",
    "        weather_data[\"Lat\"].append(weather_response_json['coord']['lat'])\n",
    "        weather_data[\"Lng\"].append(weather_response_json['coord']['lon'])\n",
    "        weather_data[\"Max Temp\"].append(weather_response_json['main']['temp_max'])\n",
    "        weather_data[\"Wind Speed\"].append(weather_response_json['wind']['speed'])\n",
    "        if record_count <= 50:\n",
    "            print(f\"Processing Record {record_count} of Set {set_count} | {city}\")\n",
    "            record_count += 1 \n",
    "        else:\n",
    "            record_count = 0\n",
    "            set_count += 1\n",
    "            print(f\"Processing Record {record_count} of Set {set_count} | {city}\")\n",
    "            record_count += 1\n",
    "    else:\n",
    "        print(\"City not found. Skipping...\")\n",
    "print(\"-------------------------\")\n",
    "print(\"Data Retrieval Complete\")\n",
    "print(\"-------------------------\")"
   ]
  },
  {
   "cell_type": "code",
   "execution_count": null,
   "metadata": {},
   "outputs": [],
   "source": []
  },
  {
   "cell_type": "markdown",
   "metadata": {},
   "source": [
    "### Convert Raw Data to DataFrame\n",
    "* Export the city data into a .csv.\n",
    "* Display the DataFrame"
   ]
  },
  {
   "cell_type": "code",
   "execution_count": 27,
   "metadata": {},
   "outputs": [
    {
     "data": {
      "text/html": [
       "<div>\n",
       "<style scoped>\n",
       "    .dataframe tbody tr th:only-of-type {\n",
       "        vertical-align: middle;\n",
       "    }\n",
       "\n",
       "    .dataframe tbody tr th {\n",
       "        vertical-align: top;\n",
       "    }\n",
       "\n",
       "    .dataframe thead th {\n",
       "        text-align: right;\n",
       "    }\n",
       "</style>\n",
       "<table border=\"1\" class=\"dataframe\">\n",
       "  <thead>\n",
       "    <tr style=\"text-align: right;\">\n",
       "      <th></th>\n",
       "      <th>City</th>\n",
       "      <th>Cloudiness</th>\n",
       "      <th>Country</th>\n",
       "      <th>Date</th>\n",
       "      <th>Humidity</th>\n",
       "      <th>Lat</th>\n",
       "      <th>Lng</th>\n",
       "      <th>Max Temp</th>\n",
       "      <th>Wind Speed</th>\n",
       "    </tr>\n",
       "    <tr>\n",
       "      <th>City</th>\n",
       "      <th></th>\n",
       "      <th></th>\n",
       "      <th></th>\n",
       "      <th></th>\n",
       "      <th></th>\n",
       "      <th></th>\n",
       "      <th></th>\n",
       "      <th></th>\n",
       "      <th></th>\n",
       "    </tr>\n",
       "  </thead>\n",
       "  <tbody>\n",
       "    <tr>\n",
       "      <th>0</th>\n",
       "      <td>bluff</td>\n",
       "      <td>70</td>\n",
       "      <td>NZ</td>\n",
       "      <td>1618959714</td>\n",
       "      <td>77</td>\n",
       "      <td>-46.6000</td>\n",
       "      <td>168.3333</td>\n",
       "      <td>287.04</td>\n",
       "      <td>1.79</td>\n",
       "    </tr>\n",
       "    <tr>\n",
       "      <th>1</th>\n",
       "      <td>busselton</td>\n",
       "      <td>4</td>\n",
       "      <td>AU</td>\n",
       "      <td>1618959699</td>\n",
       "      <td>90</td>\n",
       "      <td>-33.6500</td>\n",
       "      <td>115.3333</td>\n",
       "      <td>279.82</td>\n",
       "      <td>4.29</td>\n",
       "    </tr>\n",
       "    <tr>\n",
       "      <th>2</th>\n",
       "      <td>novoorsk</td>\n",
       "      <td>0</td>\n",
       "      <td>RU</td>\n",
       "      <td>1618960193</td>\n",
       "      <td>68</td>\n",
       "      <td>51.3810</td>\n",
       "      <td>58.9813</td>\n",
       "      <td>269.15</td>\n",
       "      <td>3.00</td>\n",
       "    </tr>\n",
       "    <tr>\n",
       "      <th>3</th>\n",
       "      <td>bengkulu</td>\n",
       "      <td>49</td>\n",
       "      <td>ID</td>\n",
       "      <td>1618959718</td>\n",
       "      <td>89</td>\n",
       "      <td>-3.8004</td>\n",
       "      <td>102.2655</td>\n",
       "      <td>297.26</td>\n",
       "      <td>1.84</td>\n",
       "    </tr>\n",
       "    <tr>\n",
       "      <th>4</th>\n",
       "      <td>hermanus</td>\n",
       "      <td>100</td>\n",
       "      <td>ZA</td>\n",
       "      <td>1618959479</td>\n",
       "      <td>88</td>\n",
       "      <td>-34.4187</td>\n",
       "      <td>19.2345</td>\n",
       "      <td>288.71</td>\n",
       "      <td>0.89</td>\n",
       "    </tr>\n",
       "  </tbody>\n",
       "</table>\n",
       "</div>"
      ],
      "text/plain": [
       "           City  Cloudiness Country        Date  Humidity      Lat       Lng  \\\n",
       "City                                                                           \n",
       "0         bluff          70      NZ  1618959714        77 -46.6000  168.3333   \n",
       "1     busselton           4      AU  1618959699        90 -33.6500  115.3333   \n",
       "2      novoorsk           0      RU  1618960193        68  51.3810   58.9813   \n",
       "3      bengkulu          49      ID  1618959718        89  -3.8004  102.2655   \n",
       "4      hermanus         100      ZA  1618959479        88 -34.4187   19.2345   \n",
       "\n",
       "      Max Temp  Wind Speed  \n",
       "City                        \n",
       "0       287.04        1.79  \n",
       "1       279.82        4.29  \n",
       "2       269.15        3.00  \n",
       "3       297.26        1.84  \n",
       "4       288.71        0.89  "
      ]
     },
     "execution_count": 27,
     "metadata": {},
     "output_type": "execute_result"
    }
   ],
   "source": [
    "weather_data = pd.DataFrame(weather_data)\n",
    "weather_data.head()"
   ]
  },
  {
   "cell_type": "code",
   "execution_count": 31,
   "metadata": {},
   "outputs": [
    {
     "data": {
      "text/html": [
       "<div>\n",
       "<style scoped>\n",
       "    .dataframe tbody tr th:only-of-type {\n",
       "        vertical-align: middle;\n",
       "    }\n",
       "\n",
       "    .dataframe tbody tr th {\n",
       "        vertical-align: top;\n",
       "    }\n",
       "\n",
       "    .dataframe thead th {\n",
       "        text-align: right;\n",
       "    }\n",
       "</style>\n",
       "<table border=\"1\" class=\"dataframe\">\n",
       "  <thead>\n",
       "    <tr style=\"text-align: right;\">\n",
       "      <th></th>\n",
       "      <th>City</th>\n",
       "      <th>Cloudiness</th>\n",
       "      <th>Country</th>\n",
       "      <th>Date</th>\n",
       "      <th>Humidity</th>\n",
       "      <th>Lat</th>\n",
       "      <th>Lng</th>\n",
       "      <th>Max Temp</th>\n",
       "      <th>Wind Speed</th>\n",
       "    </tr>\n",
       "    <tr>\n",
       "      <th>City</th>\n",
       "      <th></th>\n",
       "      <th></th>\n",
       "      <th></th>\n",
       "      <th></th>\n",
       "      <th></th>\n",
       "      <th></th>\n",
       "      <th></th>\n",
       "      <th></th>\n",
       "      <th></th>\n",
       "    </tr>\n",
       "  </thead>\n",
       "  <tbody>\n",
       "    <tr>\n",
       "      <th>0</th>\n",
       "      <td>bluff</td>\n",
       "      <td>70</td>\n",
       "      <td>NZ</td>\n",
       "      <td>1618959714</td>\n",
       "      <td>77</td>\n",
       "      <td>-46.6000</td>\n",
       "      <td>168.3333</td>\n",
       "      <td>287.04</td>\n",
       "      <td>1.79</td>\n",
       "    </tr>\n",
       "    <tr>\n",
       "      <th>1</th>\n",
       "      <td>busselton</td>\n",
       "      <td>4</td>\n",
       "      <td>AU</td>\n",
       "      <td>1618959699</td>\n",
       "      <td>90</td>\n",
       "      <td>-33.6500</td>\n",
       "      <td>115.3333</td>\n",
       "      <td>279.82</td>\n",
       "      <td>4.29</td>\n",
       "    </tr>\n",
       "    <tr>\n",
       "      <th>2</th>\n",
       "      <td>novoorsk</td>\n",
       "      <td>0</td>\n",
       "      <td>RU</td>\n",
       "      <td>1618960193</td>\n",
       "      <td>68</td>\n",
       "      <td>51.3810</td>\n",
       "      <td>58.9813</td>\n",
       "      <td>269.15</td>\n",
       "      <td>3.00</td>\n",
       "    </tr>\n",
       "    <tr>\n",
       "      <th>3</th>\n",
       "      <td>bengkulu</td>\n",
       "      <td>49</td>\n",
       "      <td>ID</td>\n",
       "      <td>1618959718</td>\n",
       "      <td>89</td>\n",
       "      <td>-3.8004</td>\n",
       "      <td>102.2655</td>\n",
       "      <td>297.26</td>\n",
       "      <td>1.84</td>\n",
       "    </tr>\n",
       "    <tr>\n",
       "      <th>4</th>\n",
       "      <td>hermanus</td>\n",
       "      <td>100</td>\n",
       "      <td>ZA</td>\n",
       "      <td>1618959479</td>\n",
       "      <td>88</td>\n",
       "      <td>-34.4187</td>\n",
       "      <td>19.2345</td>\n",
       "      <td>288.71</td>\n",
       "      <td>0.89</td>\n",
       "    </tr>\n",
       "    <tr>\n",
       "      <th>...</th>\n",
       "      <td>...</td>\n",
       "      <td>...</td>\n",
       "      <td>...</td>\n",
       "      <td>...</td>\n",
       "      <td>...</td>\n",
       "      <td>...</td>\n",
       "      <td>...</td>\n",
       "      <td>...</td>\n",
       "      <td>...</td>\n",
       "    </tr>\n",
       "    <tr>\n",
       "      <th>560</th>\n",
       "      <td>santa vitoria do palmar</td>\n",
       "      <td>7</td>\n",
       "      <td>BR</td>\n",
       "      <td>1618960145</td>\n",
       "      <td>78</td>\n",
       "      <td>-33.5189</td>\n",
       "      <td>-53.3681</td>\n",
       "      <td>291.83</td>\n",
       "      <td>4.26</td>\n",
       "    </tr>\n",
       "    <tr>\n",
       "      <th>561</th>\n",
       "      <td>manakara</td>\n",
       "      <td>100</td>\n",
       "      <td>MG</td>\n",
       "      <td>1618960096</td>\n",
       "      <td>87</td>\n",
       "      <td>-22.1333</td>\n",
       "      <td>48.0167</td>\n",
       "      <td>293.52</td>\n",
       "      <td>1.94</td>\n",
       "    </tr>\n",
       "    <tr>\n",
       "      <th>562</th>\n",
       "      <td>balkanabat</td>\n",
       "      <td>100</td>\n",
       "      <td>TM</td>\n",
       "      <td>1618960301</td>\n",
       "      <td>33</td>\n",
       "      <td>39.5108</td>\n",
       "      <td>54.3671</td>\n",
       "      <td>296.90</td>\n",
       "      <td>9.21</td>\n",
       "    </tr>\n",
       "    <tr>\n",
       "      <th>563</th>\n",
       "      <td>belem de sao francisco</td>\n",
       "      <td>85</td>\n",
       "      <td>BR</td>\n",
       "      <td>1618959900</td>\n",
       "      <td>48</td>\n",
       "      <td>-8.7539</td>\n",
       "      <td>-38.9658</td>\n",
       "      <td>302.51</td>\n",
       "      <td>2.00</td>\n",
       "    </tr>\n",
       "    <tr>\n",
       "      <th>564</th>\n",
       "      <td>najran</td>\n",
       "      <td>0</td>\n",
       "      <td>SA</td>\n",
       "      <td>1618959831</td>\n",
       "      <td>21</td>\n",
       "      <td>17.4924</td>\n",
       "      <td>44.1277</td>\n",
       "      <td>295.15</td>\n",
       "      <td>1.36</td>\n",
       "    </tr>\n",
       "  </tbody>\n",
       "</table>\n",
       "<p>565 rows × 9 columns</p>\n",
       "</div>"
      ],
      "text/plain": [
       "                         City  Cloudiness Country        Date  Humidity  \\\n",
       "City                                                                      \n",
       "0                       bluff          70      NZ  1618959714        77   \n",
       "1                   busselton           4      AU  1618959699        90   \n",
       "2                    novoorsk           0      RU  1618960193        68   \n",
       "3                    bengkulu          49      ID  1618959718        89   \n",
       "4                    hermanus         100      ZA  1618959479        88   \n",
       "...                       ...         ...     ...         ...       ...   \n",
       "560   santa vitoria do palmar           7      BR  1618960145        78   \n",
       "561                  manakara         100      MG  1618960096        87   \n",
       "562                balkanabat         100      TM  1618960301        33   \n",
       "563    belem de sao francisco          85      BR  1618959900        48   \n",
       "564                    najran           0      SA  1618959831        21   \n",
       "\n",
       "          Lat       Lng  Max Temp  Wind Speed  \n",
       "City                                           \n",
       "0    -46.6000  168.3333    287.04        1.79  \n",
       "1    -33.6500  115.3333    279.82        4.29  \n",
       "2     51.3810   58.9813    269.15        3.00  \n",
       "3     -3.8004  102.2655    297.26        1.84  \n",
       "4    -34.4187   19.2345    288.71        0.89  \n",
       "...       ...       ...       ...         ...  \n",
       "560  -33.5189  -53.3681    291.83        4.26  \n",
       "561  -22.1333   48.0167    293.52        1.94  \n",
       "562   39.5108   54.3671    296.90        9.21  \n",
       "563   -8.7539  -38.9658    302.51        2.00  \n",
       "564   17.4924   44.1277    295.15        1.36  \n",
       "\n",
       "[565 rows x 9 columns]"
      ]
     },
     "execution_count": 31,
     "metadata": {},
     "output_type": "execute_result"
    }
   ],
   "source": [
    "weather_data = pd.DataFrame(weather_data)\n",
    "weather_data"
   ]
  },
  {
   "cell_type": "code",
   "execution_count": 28,
   "metadata": {},
   "outputs": [],
   "source": [
    "# Exporting the city data into csv\n",
    "weather_data.to_csv('weather_data.csv', encoding='utf-8', index=False)\n"
   ]
  },
  {
   "cell_type": "code",
   "execution_count": 29,
   "metadata": {},
   "outputs": [
    {
     "data": {
      "text/html": [
       "<div>\n",
       "<style scoped>\n",
       "    .dataframe tbody tr th:only-of-type {\n",
       "        vertical-align: middle;\n",
       "    }\n",
       "\n",
       "    .dataframe tbody tr th {\n",
       "        vertical-align: top;\n",
       "    }\n",
       "\n",
       "    .dataframe thead th {\n",
       "        text-align: right;\n",
       "    }\n",
       "</style>\n",
       "<table border=\"1\" class=\"dataframe\">\n",
       "  <thead>\n",
       "    <tr style=\"text-align: right;\">\n",
       "      <th></th>\n",
       "      <th>Cloudiness</th>\n",
       "      <th>Date</th>\n",
       "      <th>Humidity</th>\n",
       "      <th>Lat</th>\n",
       "      <th>Lng</th>\n",
       "      <th>Max Temp</th>\n",
       "      <th>Wind Speed</th>\n",
       "    </tr>\n",
       "  </thead>\n",
       "  <tbody>\n",
       "    <tr>\n",
       "      <th>count</th>\n",
       "      <td>565.000000</td>\n",
       "      <td>5.650000e+02</td>\n",
       "      <td>565.000000</td>\n",
       "      <td>565.000000</td>\n",
       "      <td>565.000000</td>\n",
       "      <td>565.000000</td>\n",
       "      <td>565.000000</td>\n",
       "    </tr>\n",
       "    <tr>\n",
       "      <th>mean</th>\n",
       "      <td>51.398230</td>\n",
       "      <td>1.618960e+09</td>\n",
       "      <td>71.159292</td>\n",
       "      <td>19.633412</td>\n",
       "      <td>21.622687</td>\n",
       "      <td>288.657699</td>\n",
       "      <td>3.376496</td>\n",
       "    </tr>\n",
       "    <tr>\n",
       "      <th>std</th>\n",
       "      <td>38.387891</td>\n",
       "      <td>2.411711e+02</td>\n",
       "      <td>22.073044</td>\n",
       "      <td>32.780122</td>\n",
       "      <td>87.805345</td>\n",
       "      <td>11.824352</td>\n",
       "      <td>2.478830</td>\n",
       "    </tr>\n",
       "    <tr>\n",
       "      <th>min</th>\n",
       "      <td>0.000000</td>\n",
       "      <td>1.618959e+09</td>\n",
       "      <td>5.000000</td>\n",
       "      <td>-54.800000</td>\n",
       "      <td>-179.166700</td>\n",
       "      <td>244.620000</td>\n",
       "      <td>0.050000</td>\n",
       "    </tr>\n",
       "    <tr>\n",
       "      <th>25%</th>\n",
       "      <td>9.000000</td>\n",
       "      <td>1.618960e+09</td>\n",
       "      <td>60.000000</td>\n",
       "      <td>-5.550200</td>\n",
       "      <td>-53.368100</td>\n",
       "      <td>279.820000</td>\n",
       "      <td>1.540000</td>\n",
       "    </tr>\n",
       "    <tr>\n",
       "      <th>50%</th>\n",
       "      <td>56.000000</td>\n",
       "      <td>1.618960e+09</td>\n",
       "      <td>77.000000</td>\n",
       "      <td>20.931000</td>\n",
       "      <td>25.970400</td>\n",
       "      <td>291.660000</td>\n",
       "      <td>2.940000</td>\n",
       "    </tr>\n",
       "    <tr>\n",
       "      <th>75%</th>\n",
       "      <td>90.000000</td>\n",
       "      <td>1.618960e+09</td>\n",
       "      <td>88.000000</td>\n",
       "      <td>47.666600</td>\n",
       "      <td>98.517400</td>\n",
       "      <td>298.590000</td>\n",
       "      <td>4.630000</td>\n",
       "    </tr>\n",
       "    <tr>\n",
       "      <th>max</th>\n",
       "      <td>100.000000</td>\n",
       "      <td>1.618960e+09</td>\n",
       "      <td>100.000000</td>\n",
       "      <td>78.218600</td>\n",
       "      <td>179.316700</td>\n",
       "      <td>307.590000</td>\n",
       "      <td>24.590000</td>\n",
       "    </tr>\n",
       "  </tbody>\n",
       "</table>\n",
       "</div>"
      ],
      "text/plain": [
       "       Cloudiness          Date    Humidity         Lat         Lng  \\\n",
       "count  565.000000  5.650000e+02  565.000000  565.000000  565.000000   \n",
       "mean    51.398230  1.618960e+09   71.159292   19.633412   21.622687   \n",
       "std     38.387891  2.411711e+02   22.073044   32.780122   87.805345   \n",
       "min      0.000000  1.618959e+09    5.000000  -54.800000 -179.166700   \n",
       "25%      9.000000  1.618960e+09   60.000000   -5.550200  -53.368100   \n",
       "50%     56.000000  1.618960e+09   77.000000   20.931000   25.970400   \n",
       "75%     90.000000  1.618960e+09   88.000000   47.666600   98.517400   \n",
       "max    100.000000  1.618960e+09  100.000000   78.218600  179.316700   \n",
       "\n",
       "         Max Temp  Wind Speed  \n",
       "count  565.000000  565.000000  \n",
       "mean   288.657699    3.376496  \n",
       "std     11.824352    2.478830  \n",
       "min    244.620000    0.050000  \n",
       "25%    279.820000    1.540000  \n",
       "50%    291.660000    2.940000  \n",
       "75%    298.590000    4.630000  \n",
       "max    307.590000   24.590000  "
      ]
     },
     "execution_count": 29,
     "metadata": {},
     "output_type": "execute_result"
    }
   ],
   "source": [
    "weather_data.describe()"
   ]
  },
  {
   "cell_type": "markdown",
   "metadata": {},
   "source": [
    "## Inspect the data and remove the cities where the humidity > 100%.\n",
    "----\n",
    "Skip this step if there are no cities that have humidity > 100%. "
   ]
  },
  {
   "cell_type": "code",
   "execution_count": 42,
   "metadata": {},
   "outputs": [
    {
     "name": "stdout",
     "output_type": "stream",
     "text": [
      "The humidity value is 100%, so there are no values > than 100% in the data!\n"
     ]
    },
    {
     "data": {
      "text/plain": [
       "count    565.000000\n",
       "mean      71.159292\n",
       "std       22.073044\n",
       "min        5.000000\n",
       "25%       60.000000\n",
       "50%       77.000000\n",
       "75%       88.000000\n",
       "max      100.000000\n",
       "Name: Humidity, dtype: float64"
      ]
     },
     "execution_count": 42,
     "metadata": {},
     "output_type": "execute_result"
    }
   ],
   "source": [
    "#check if there are any cities with >100% humidity\n",
    "test_humid = weather_data[\"Humidity\"].describe(include = \"all\")\n",
    "print(\"The humidity value is 100%, so there are no values > than 100% in the data!\")\n",
    "test_humid\n"
   ]
  },
  {
   "cell_type": "code",
   "execution_count": 45,
   "metadata": {},
   "outputs": [
    {
     "data": {
      "text/html": [
       "<div>\n",
       "<style scoped>\n",
       "    .dataframe tbody tr th:only-of-type {\n",
       "        vertical-align: middle;\n",
       "    }\n",
       "\n",
       "    .dataframe tbody tr th {\n",
       "        vertical-align: top;\n",
       "    }\n",
       "\n",
       "    .dataframe thead th {\n",
       "        text-align: right;\n",
       "    }\n",
       "</style>\n",
       "<table border=\"1\" class=\"dataframe\">\n",
       "  <thead>\n",
       "    <tr style=\"text-align: right;\">\n",
       "      <th></th>\n",
       "      <th>City</th>\n",
       "      <th>Cloudiness</th>\n",
       "      <th>Country</th>\n",
       "      <th>Date</th>\n",
       "      <th>Humidity</th>\n",
       "      <th>Lat</th>\n",
       "      <th>Lng</th>\n",
       "      <th>Max Temp</th>\n",
       "      <th>Wind Speed</th>\n",
       "    </tr>\n",
       "    <tr>\n",
       "      <th>City</th>\n",
       "      <th></th>\n",
       "      <th></th>\n",
       "      <th></th>\n",
       "      <th></th>\n",
       "      <th></th>\n",
       "      <th></th>\n",
       "      <th></th>\n",
       "      <th></th>\n",
       "      <th></th>\n",
       "    </tr>\n",
       "  </thead>\n",
       "  <tbody>\n",
       "  </tbody>\n",
       "</table>\n",
       "</div>"
      ],
      "text/plain": [
       "Empty DataFrame\n",
       "Columns: [City, Cloudiness, Country, Date, Humidity, Lat, Lng, Max Temp, Wind Speed]\n",
       "Index: []"
      ]
     },
     "execution_count": 45,
     "metadata": {},
     "output_type": "execute_result"
    }
   ],
   "source": [
    "#  Get the indices of cities that have humidity over 100%.\n",
    "humidity_cities=weather_data[weather_data[\"Humidity\"] > 100]\n",
    "humidity_cities.head()\n"
   ]
  },
  {
   "cell_type": "code",
   "execution_count": 46,
   "metadata": {},
   "outputs": [],
   "source": [
    "# Make a new DataFrame equal to the city data to drop all humidity outliers by index.\n",
    "# Passing \"inplace=False\" will make a copy of the city_data DataFrame, which we call \"clean_city_data\".\n"
   ]
  },
  {
   "cell_type": "code",
   "execution_count": null,
   "metadata": {},
   "outputs": [],
   "source": []
  },
  {
   "cell_type": "markdown",
   "metadata": {},
   "source": [
    "## Plotting the Data\n",
    "* Use proper labeling of the plots using plot titles (including date of analysis) and axes labels.\n",
    "* Save the plotted figures as .pngs."
   ]
  },
  {
   "cell_type": "markdown",
   "metadata": {},
   "source": [
    "## Latitude vs. Temperature Plot"
   ]
  },
  {
   "cell_type": "code",
   "execution_count": 56,
   "metadata": {
    "scrolled": true
   },
   "outputs": [
    {
     "data": {
      "image/png": "[encoded data removed]",
      "text/plain": [
       "<Figure size 432x288 with 1 Axes>"
      ]
     },
     "metadata": {
      "needs_background": "light"
     },
     "output_type": "display_data"
    }
   ],
   "source": [
    "# Build Scatter Plot for Each Data Type\n",
    "plt.scatter(weather_data[\"Lat\"], weather_data[\"Max Temp\"], facecolors=\"pink\", marker=\"o\", edgecolor=\"black\")\n",
    "\n",
    "# Incorporate Other Graph Properties\n",
    "plt.title(\"Latitude vs. Max Temperature (04/20/2021)\")\n",
    "plt.ylabel(\"Max Temperature (°F)\")\n",
    "plt.xlabel(\"Latitude\")\n",
    "plt.grid(True)\n",
    "\n",
    "# Save Figure\n",
    "plt.savefig(\"../Images/Latitude vs Max Temperature.png\")\n",
    "\n",
    "# Show Plot\n",
    "plt.show()"
   ]
  },
  {
   "cell_type": "markdown",
   "metadata": {},
   "source": [
    "## Latitude vs. Humidity Plot"
   ]
  },
  {
   "cell_type": "code",
   "execution_count": 57,
   "metadata": {},
   "outputs": [
    {
     "data": {
      "image/png": "[encoded data removed]",
      "text/plain": [
       "<Figure size 432x288 with 1 Axes>"
      ]
     },
     "metadata": {
      "needs_background": "light"
     },
     "output_type": "display_data"
    }
   ],
   "source": [
    "# Build Scatter Plot for Each Data Type\n",
    "plt.scatter(weather_data[\"Lat\"], weather_data[\"Humidity\"], facecolors=\"red\", marker=\"o\", edgecolor=\"black\")\n",
    "# Incorporate Other Graph Properties\n",
    "plt.title(\"Latitude vs. Humidity (04/20/2021)\")\n",
    "plt.ylabel(\"Humidity (%)\")\n",
    "plt.xlabel(\"Latitude\")\n",
    "plt.grid(True)\n",
    "\n",
    "# Save Figure\n",
    "plt.savefig(\"../Images/Latitude vs Humidity.png\")\n",
    "\n",
    "# Show Plot\n",
    "plt.show()"
   ]
  },
  {
   "cell_type": "markdown",
   "metadata": {},
   "source": [
    "## Latitude vs. Cloudiness Plot"
   ]
  },
  {
   "cell_type": "code",
   "execution_count": 58,
   "metadata": {},
   "outputs": [
    {
     "data": {
      "image/png": "[encoded data removed]",
      "text/plain": [
       "<Figure size 432x288 with 1 Axes>"
      ]
     },
     "metadata": {
      "needs_background": "light"
     },
     "output_type": "display_data"
    }
   ],
   "source": [
    "# Build Scatter Plot for Each Data Type\n",
    "plt.scatter(weather_data[\"Lat\"], weather_data[\"Cloudiness\"], facecolors=\"blue\", marker=\"o\", edgecolor=\"black\")\n",
    "\n",
    "# Incorporate Other Graph Properties\n",
    "plt.title(\"Latitude vs. Cloudiness (04/20/2021)\")\n",
    "plt.ylabel(\"Cloudiness (%)\")\n",
    "plt.xlabel(\"Latitude\")\n",
    "plt.grid(True)\n",
    "\n",
    "# Save Figure\n",
    "plt.savefig(\"../Images/City Latitude vs Cloudiness.png\")\n",
    "\n",
    "# Show Plot\n",
    "plt.show()"
   ]
  },
  {
   "cell_type": "markdown",
   "metadata": {},
   "source": [
    "## Latitude vs. Wind Speed Plot"
   ]
  },
  {
   "cell_type": "code",
   "execution_count": 59,
   "metadata": {},
   "outputs": [
    {
     "data": {
      "image/png": "[encoded data removed]",
      "text/plain": [
       "<Figure size 432x288 with 1 Axes>"
      ]
     },
     "metadata": {
      "needs_background": "light"
     },
     "output_type": "display_data"
    }
   ],
   "source": [
    "# Build Scatter Plot for Each Data Type\n",
    "plt.scatter(weather_data[\"Lat\"], weather_data[\"Wind Speed\"], facecolors=\"yellow\", marker=\"o\", edgecolor=\"black\")\n",
    "\n",
    "# Incorporate Other Graph Properties\n",
    "plt.title(\"Latitude vs. Wind Speed (04/20/2021)\")\n",
    "plt.ylabel(\"Wind Speed (mph)\")\n",
    "plt.xlabel(\"Latitude\")\n",
    "plt.grid(True)\n",
    "\n",
    "# Save Figure\n",
    "plt.savefig(\"../Images/City Latitude vs Wind Speed (mph).png\")\n",
    "\n",
    "# Show Plot\n",
    "plt.show()"
   ]
  },
  {
   "cell_type": "markdown",
   "metadata": {},
   "source": [
    "## Linear Regression"
   ]
  },
  {
   "cell_type": "code",
   "execution_count": 60,
   "metadata": {},
   "outputs": [],
   "source": [
    "# Create Northern and Southern Hemisphere DataFrames\n",
    "northern_hemisphere = weather_data.loc[weather_data[\"Lat\"] >= 0]\n",
    "southern_hemisphere = weather_data.loc[weather_data[\"Lat\"] < 0]"
   ]
  },
  {
   "cell_type": "code",
   "execution_count": 61,
   "metadata": {},
   "outputs": [],
   "source": [
    "# Define function for creating linear agression and scatter plot\n",
    "def linear_agression(x,y):\n",
    "    print(f\"The r-squared is : {round(st.pearsonr(x, y)[0],2)}\")\n",
    "    (slope, intercept, rvalue, pvalue, stderr) = st.linregress(x, y)\n",
    "    regress_values = x * slope + intercept\n",
    "    line_eq = \"y = \" + str(round(slope,2)) + \"x + \" + str(round(intercept,2))\n",
    "    plt.scatter(x, y)\n",
    "    plt.plot(x,regress_values,\"r-\")\n",
    "    return line_eq\n",
    "\n",
    "# Define a fuction for annotating\n",
    "def annotate(line_eq, a, b):\n",
    "    plt.annotate(line_eq,(a,b),fontsize=15,color=\"red\")"
   ]
  },
  {
   "cell_type": "markdown",
   "metadata": {},
   "source": [
    "####  Northern Hemisphere - Max Temp vs. Latitude Linear Regression"
   ]
  },
  {
   "cell_type": "code",
   "execution_count": null,
   "metadata": {},
   "outputs": [],
   "source": []
  },
  {
   "cell_type": "markdown",
   "metadata": {},
   "source": [
    "####  Southern Hemisphere - Max Temp vs. Latitude Linear Regression"
   ]
  },
  {
   "cell_type": "code",
   "execution_count": 26,
   "metadata": {},
   "outputs": [
    {
     "name": "stdout",
     "output_type": "stream",
     "text": [
      "The r-value is: 0.6082708688906918\n"
     ]
    },
    {
     "data": {
      "image/png": "[encoded data removed]",
      "text/plain": [
       "<Figure size 432x288 with 1 Axes>"
      ]
     },
     "metadata": {
      "needs_background": "light"
     },
     "output_type": "display_data"
    }
   ],
   "source": []
  },
  {
   "cell_type": "markdown",
   "metadata": {},
   "source": [
    "####  Northern Hemisphere - Humidity (%) vs. Latitude Linear Regression"
   ]
  },
  {
   "cell_type": "code",
   "execution_count": 27,
   "metadata": {},
   "outputs": [
    {
     "name": "stdout",
     "output_type": "stream",
     "text": [
      "The r-value is: 0.000543987878808455\n"
     ]
    },
    {
     "data": {
      "image/png": "[encoded data removed]",
      "text/plain": [
       "<Figure size 432x288 with 1 Axes>"
      ]
     },
     "metadata": {
      "needs_background": "light"
     },
     "output_type": "display_data"
    }
   ],
   "source": []
  },
  {
   "cell_type": "markdown",
   "metadata": {},
   "source": [
    "####  Southern Hemisphere - Humidity (%) vs. Latitude Linear Regression"
   ]
  },
  {
   "cell_type": "code",
   "execution_count": 28,
   "metadata": {},
   "outputs": [
    {
     "name": "stdout",
     "output_type": "stream",
     "text": [
      "The r-value is: 0.014985174297345524\n"
     ]
    },
    {
     "data": {
      "image/png": "[encoded data removed]",
      "text/plain": [
       "<Figure size 432x288 with 1 Axes>"
      ]
     },
     "metadata": {
      "needs_background": "light"
     },
     "output_type": "display_data"
    }
   ],
   "source": []
  },
  {
   "cell_type": "markdown",
   "metadata": {},
   "source": [
    "####  Northern Hemisphere - Cloudiness (%) vs. Latitude Linear Regression"
   ]
  },
  {
   "cell_type": "code",
   "execution_count": 29,
   "metadata": {},
   "outputs": [
    {
     "name": "stdout",
     "output_type": "stream",
     "text": [
      "The r-value is: 0.0020898727664228514\n"
     ]
    },
    {
     "data": {
      "image/png": "[encoded data removed]",
      "text/plain": [
       "<Figure size 432x288 with 1 Axes>"
      ]
     },
     "metadata": {
      "needs_background": "light"
     },
     "output_type": "display_data"
    }
   ],
   "source": []
  },
  {
   "cell_type": "markdown",
   "metadata": {},
   "source": [
    "####  Southern Hemisphere - Cloudiness (%) vs. Latitude Linear Regression"
   ]
  },
  {
   "cell_type": "code",
   "execution_count": 30,
   "metadata": {},
   "outputs": [
    {
     "name": "stdout",
     "output_type": "stream",
     "text": [
      "The r-value is: 0.0035263772085582894\n"
     ]
    },
    {
     "data": {
      "image/png": "[encoded data removed]",
      "text/plain": [
       "<Figure size 432x288 with 1 Axes>"
      ]
     },
     "metadata": {
      "needs_background": "light"
     },
     "output_type": "display_data"
    }
   ],
   "source": []
  },
  {
   "cell_type": "markdown",
   "metadata": {},
   "source": [
    "####  Northern Hemisphere - Wind Speed (mph) vs. Latitude Linear Regression"
   ]
  },
  {
   "cell_type": "code",
   "execution_count": 31,
   "metadata": {},
   "outputs": [
    {
     "name": "stdout",
     "output_type": "stream",
     "text": [
      "The r-value is: 0.04019723576144484\n"
     ]
    },
    {
     "data": {
      "image/png": "[encoded data removed]",
      "text/plain": [
       "<Figure size 432x288 with 1 Axes>"
      ]
     },
     "metadata": {
      "needs_background": "light"
     },
     "output_type": "display_data"
    }
   ],
   "source": []
  },
  {
   "cell_type": "markdown",
   "metadata": {},
   "source": [
    "####  Southern Hemisphere - Wind Speed (mph) vs. Latitude Linear Regression"
   ]
  },
  {
   "cell_type": "code",
   "execution_count": 32,
   "metadata": {},
   "outputs": [
    {
     "name": "stdout",
     "output_type": "stream",
     "text": [
      "The r-value is: 0.017128274759839232\n"
     ]
    },
    {
     "data": {
      "image/png": "[encoded data removed]",
      "text/plain": [
       "<Figure size 432x288 with 1 Axes>"
      ]
     },
     "metadata": {
      "needs_background": "light"
     },
     "output_type": "display_data"
    }
   ],
   "source": []
  },
  {
   "cell_type": "code",
   "execution_count": null,
   "metadata": {},
   "outputs": [],
   "source": []
  }
 ],
 "metadata": {
  "anaconda-cloud": {},
  "kernel_info": {
   "name": "python3"
  },
  "kernelspec": {
   "display_name": "Python [conda env:PythonData]",
   "language": "python",
   "name": "conda-env-PythonData-py"
  },
  "language_info": {
   "codemirror_mode": {
    "name": "ipython",
    "version": 3
   },
   "file_extension": ".py",
   "mimetype": "text/x-python",
   "name": "python",
   "nbconvert_exporter": "python",
   "pygments_lexer": "ipython3",
   "version": "3.6.10"
  },
  "latex_envs": {
   "LaTeX_envs_menu_present": true,
   "autoclose": false,
   "autocomplete": true,
   "bibliofile": "biblio.bib",
   "cite_by": "apalike",
   "current_citInitial": 1,
   "eqLabelWithNumbers": true,
   "eqNumInitial": 1,
   "hotkeys": {
    "equation": "Ctrl-E",
    "itemize": "Ctrl-I"
   },
   "labels_anchors": false,
   "latex_user_defs": false,
   "report_style_numbering": false,
   "user_envs_cfg": false
  },
  "nteract": {
   "version": "0.12.3"
  }
 },
 "nbformat": 4,
 "nbformat_minor": 2
}
